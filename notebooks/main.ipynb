{
 "cells": [
  {
   "cell_type": "markdown",
   "id": "23c09026",
   "metadata": {},
   "source": [
    "1 - Importação dos pacotes e bibliotecas"
   ]
  },
  {
   "cell_type": "code",
   "execution_count": 15,
   "id": "708a309f",
   "metadata": {},
   "outputs": [],
   "source": [
    "# Usada para manipulação de dados\n",
    "import pandas as pd\n",
    "\n",
    "# Usado para tranformar strings em dados numéricos\n",
    "from sklearn.preprocessing import LabelEncoder\n",
    "le = LabelEncoder()\n",
    "\n",
    "# Módulos do Scikit-learn usado para algoritimos de regressão\n",
    "from sklearn.ensemble import GradientBoostingClassifier\n",
    "from sklearn.linear_model import LinearRegression\n",
    "\n",
    "# Módulo do Scikit-learn usado para separar o conjunto de dados.\n",
    "from sklearn.model_selection import train_test_split\n",
    "\n",
    "# Módulos do Scikit-learn usado para avaliação estatística.\n",
    "from sklearn.metrics  import mean_absolute_error\n",
    "from sklearn.metrics  import mean_squared_error\n",
    "from sklearn.metrics  import r2_score"
   ]
  },
  {
   "cell_type": "markdown",
   "id": "2f66e823",
   "metadata": {},
   "source": [
    "2 - Ingenstão dos dados de entrega"
   ]
  },
  {
   "cell_type": "code",
   "execution_count": null,
   "id": "d82f417b",
   "metadata": {},
   "outputs": [],
   "source": [
    "# Define o Caminho dos arquivos.\n",
    "csv_customers = \"../data/olist_customers_dataset.csv\"\n",
    "csv_order_itens = \"../data/olist_order_items_dataset.csv\"\n",
    "csv_orders = \"../data/olist_orders_dataset.csv\"\n",
    "csv_products = \"../data/olist_products_dataset.csv\"\n",
    "csv_sellers = \"../data/olist_sellers_dataset.csv\"\n",
    "\n",
    "# Carrega os arquivos CSV como DataFrames\n",
    "df_costumers = pd.read_csv(csv_customers)\n",
    "df_order_itens = pd.read_csv(csv_order_itens)\n",
    "df_orders = pd.read_csv(csv_orders)\n",
    "df_products = pd.read_csv(csv_products)\n",
    "df_sellers = pd.read_csv(csv_sellers)\n",
    "\n",
    "# Junta os dataframes em um unico dataframe para utilizar no machine learning.\n",
    "df = df_orders.merge(df_order_itens, on=\"order_id\")\n",
    "df = df.merge(df_costumers, on=\"customer_id\")\n",
    "df = df.merge(df_sellers, on='seller_id')\n",
    "df = df.merge(df_products, on=\"product_id\")\n",
    "\n",
    "\n",
    "# Exibe o dataframe\n",
    "df.head()"
   ]
  },
  {
   "cell_type": "markdown",
   "id": "1b353870",
   "metadata": {},
   "source": [
    "3 - Tratamento dos dados"
   ]
  },
  {
   "cell_type": "code",
   "execution_count": null,
   "id": "80e81330",
   "metadata": {},
   "outputs": [],
   "source": [
    "# Tira todas as colunas irrelevantes para o aprendizado de maquina.\n",
    "df = df.drop(['order_id', 'customer_id','order_status', 'product_id', 'order_item_id', 'seller_id', 'customer_unique_id', 'product_name_lenght', 'product_description_lenght', \"product_photos_qty\"], axis=1)\n"
   ]
  },
  {
   "cell_type": "code",
   "execution_count": null,
   "id": "0e393947",
   "metadata": {},
   "outputs": [],
   "source": [
    "# Exibe o dataframe\n",
    "display(df)\n",
    "\n",
    "# Exibe informações detalhadas sobre a estrutura dos dados.\n",
    "display(df.info())\n",
    "\n",
    "# Exibe a quantidade de valores nulos por coluna.\n",
    "print(df.isnull().sum())\n"
   ]
  },
  {
   "cell_type": "code",
   "execution_count": null,
   "id": "50e55a08",
   "metadata": {},
   "outputs": [],
   "source": [
    "# Remove as linhas que contenham algum valor nulo.\n",
    "df = df.dropna()\n",
    "\n",
    "# Trasforma as colunas com strings em valores numeros para o aprendizado de maquina.\n",
    "colunas_categoricas = ['customer_state', 'seller_state', 'customer_city', 'seller_city', 'product_category_name']\n",
    "for col in colunas_categoricas:\n",
    "    df[col] = le.fit_transform(df[col].astype(str))\n"
   ]
  }
 ],
 "metadata": {
  "kernelspec": {
   "display_name": "venv",
   "language": "python",
   "name": "python3"
  },
  "language_info": {
   "codemirror_mode": {
    "name": "ipython",
    "version": 3
   },
   "file_extension": ".py",
   "mimetype": "text/x-python",
   "name": "python",
   "nbconvert_exporter": "python",
   "pygments_lexer": "ipython3",
   "version": "3.13.2"
  }
 },
 "nbformat": 4,
 "nbformat_minor": 5
}
