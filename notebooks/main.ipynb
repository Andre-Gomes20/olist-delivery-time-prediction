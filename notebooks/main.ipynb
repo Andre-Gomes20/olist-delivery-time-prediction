{
 "cells": [
  {
   "cell_type": "markdown",
   "id": "23c09026",
   "metadata": {},
   "source": [
    "1 - Importação dos pacotes e bibliotecas"
   ]
  },
  {
   "cell_type": "code",
   "execution_count": null,
   "id": "708a309f",
   "metadata": {},
   "outputs": [],
   "source": [
    "# Usada para manipulação de dados\n",
    "import pandas as pd\n",
    "\n",
    "# Usado para tranformar strings em dados numéricos\n",
    "from sklearn.preprocessing import LabelEncoder\n",
    "le = LabelEncoder()\n",
    "\n",
    "# Módulos do Scikit-learn usado para algoritimos de regressão\n",
    "from sklearn.ensemble import GradientBoostingRegressor, RandomForestRegressor\n",
    "from sklearn.linear_model import LinearRegression\n",
    "\n",
    "# Módulo do Scikit-learn usado para separar o conjunto de dados.\n",
    "from sklearn.model_selection import train_test_split\n",
    "\n",
    "# Módulos do Scikit-learn usado para avaliação estatística.\n",
    "from sklearn.metrics  import mean_absolute_error\n",
    "from sklearn.metrics  import mean_squared_error\n",
    "from sklearn.metrics  import r2_score"
   ]
  },
  {
   "cell_type": "markdown",
   "id": "2f66e823",
   "metadata": {},
   "source": [
    "2 - Ingenstão dos dados de entrega"
   ]
  },
  {
   "cell_type": "code",
   "execution_count": null,
   "id": "d82f417b",
   "metadata": {},
   "outputs": [],
   "source": [
    "# Define o Caminho dos arquivos.\n",
    "csv_customers = \"../data/olist_customers_dataset.csv\"\n",
    "csv_order_itens = \"../data/olist_order_items_dataset.csv\"\n",
    "csv_orders = \"../data/olist_orders_dataset.csv\"\n",
    "csv_products = \"../data/olist_products_dataset.csv\"\n",
    "csv_sellers = \"../data/olist_sellers_dataset.csv\"\n",
    "\n",
    "# Carrega os arquivos CSV como DataFrames\n",
    "df_costumers = pd.read_csv(csv_customers)\n",
    "df_order_itens = pd.read_csv(csv_order_itens)\n",
    "df_orders = pd.read_csv(csv_orders)\n",
    "df_products = pd.read_csv(csv_products)\n",
    "df_sellers = pd.read_csv(csv_sellers)\n",
    "\n",
    "# Junta os dataframes em um unico dataframe para utilizar no machine learning.\n",
    "df = df_orders.merge(df_order_itens, on=\"order_id\")\n",
    "df = df.merge(df_costumers, on=\"customer_id\")\n",
    "df = df.merge(df_sellers, on='seller_id')\n",
    "df = df.merge(df_products, on=\"product_id\")\n",
    "\n",
    "\n",
    "# Exibe o dataframe\n",
    "df.head()"
   ]
  },
  {
   "cell_type": "markdown",
   "id": "1b353870",
   "metadata": {},
   "source": [
    "3 - Tratamento dos dados"
   ]
  },
  {
   "cell_type": "code",
   "execution_count": null,
   "id": "80e81330",
   "metadata": {},
   "outputs": [],
   "source": [
    "# Tira todas as colunas irrelevantes para o aprendizado de maquina.\n",
    "df = df.drop(['order_id', 'customer_id','order_status', 'product_id', 'order_item_id', 'seller_id', 'customer_unique_id', 'product_name_lenght', 'product_description_lenght', \"product_photos_qty\", \"order_approved_at\", 'order_delivered_carrier_date', 'order_estimated_delivery_date', 'shipping_limit_date', 'customer_zip_code_prefix', 'seller_zip_code_prefix'], axis=1)\n"
   ]
  },
  {
   "cell_type": "code",
   "execution_count": null,
   "id": "50e55a08",
   "metadata": {},
   "outputs": [],
   "source": [
    "# Remove as linhas que contenham algum valor nulo.\n",
    "df = df.dropna()\n",
    "\n",
    "# Trasforma as colunas com strings em valores numeros para o aprendizado de maquina.\n",
    "colunas_categoricas = ['customer_state', 'seller_state', 'customer_city', 'seller_city', 'product_category_name']\n",
    "for col in colunas_categoricas:\n",
    "    df[col] = le.fit_transform(df[col].astype(str))\n"
   ]
  },
  {
   "cell_type": "code",
   "execution_count": null,
   "id": "f8066b74",
   "metadata": {},
   "outputs": [],
   "source": [
    "# Converte as datas para datetime\n",
    "df['order_purchase_timestamp'] = pd.to_datetime(df['order_purchase_timestamp'])\n",
    "df['order_delivered_customer_date'] = pd.to_datetime(df['order_delivered_customer_date'])\n",
    "\n",
    "# Cria a Variável alvo: diferença em dias entre a entrega e a compra.\n",
    "df['prazo_entrega_dias'] = (df['order_delivered_customer_date'] - df['order_purchase_timestamp'])\n",
    "\n",
    "# Converte para um dado numérico.\n",
    "df['prazo_entrega_dias'] = df['prazo_entrega_dias'].dt.days\n",
    "\n",
    "# Remove os outliers de tempo de entrega.\n",
    "df = df[df['prazo_entrega_dias'] <= 30]\n",
    "\n",
    "# Cria colunas com o dia da semana de compra, o mês e a hora.\n",
    "df['order_weekday'] = df['order_purchase_timestamp'].dt.weekday # 0 = segunda.\n",
    "df['order_month'] = df['order_purchase_timestamp'].dt.month\n",
    "df['order_hour'] = df['order_purchase_timestamp'].dt.hour\n",
    "\n",
    "# Exclui as colunas de data de compra e data de entrega.\n",
    "df = df.drop(['order_purchase_timestamp', 'order_delivered_customer_date'] , axis=1)"
   ]
  },
  {
   "cell_type": "code",
   "execution_count": null,
   "id": "0e393947",
   "metadata": {},
   "outputs": [],
   "source": [
    "# Exibe o dataframe\n",
    "display(df)\n",
    "\n",
    "# Exibe informações detalhadas sobre a estrutura dos dados.\n",
    "display(df.info())\n",
    "\n",
    "# Exibe a quantidade de valores nulos por coluna.\n",
    "print(df.isnull().sum())\n"
   ]
  },
  {
   "cell_type": "markdown",
   "id": "1e1b9bff",
   "metadata": {},
   "source": [
    "4 - Separação dos dados     "
   ]
  },
  {
   "cell_type": "code",
   "execution_count": null,
   "id": "5b16d358",
   "metadata": {},
   "outputs": [],
   "source": [
    "# Divide os dados para treinamento e teste.\n",
    "df_treino, df_teste = train_test_split(df, test_size=20, random_state=42)\n",
    "\n",
    "# Define o alvo e os preditores de treinamento.\n",
    "y_treino = df_treino['prazo_entrega_dias']\n",
    "x_treino = df_treino[['price', 'freight_value', 'customer_city', 'customer_state', 'seller_city', 'seller_state', 'product_category_name', 'product_weight_g', 'product_length_cm', 'product_height_cm', 'product_width_cm', 'order_weekday', 'order_month', 'order_hour']]\n",
    "\n",
    "# Define o alvo e os preditores de teste.\n",
    "y_teste = df_teste['prazo_entrega_dias']\n",
    "x_teste = df_teste[['price', 'freight_value', 'customer_city', 'customer_state', 'seller_city', 'seller_state', 'product_category_name', 'product_weight_g', 'product_length_cm', 'product_height_cm', 'product_width_cm', 'order_weekday', 'order_month', 'order_hour']]"
   ]
  },
  {
   "cell_type": "markdown",
   "id": "2284160d",
   "metadata": {},
   "source": [
    "5 - Treinamento dos modelos de machine learning"
   ]
  },
  {
   "cell_type": "code",
   "execution_count": null,
   "id": "94fef2e5",
   "metadata": {},
   "outputs": [],
   "source": [
    "# Cria o modelo de regressão linear\n",
    "RL = LinearRegression()\n",
    "\n",
    "# Treina o modelo de reguressao linear\n",
    "RL.fit(x_treino, y_treino)\n",
    "\n",
    "# Cria o modelo de Gradient Bossting\n",
    "GB = GradientBoostingRegressor()\n",
    "\n",
    "# Treina o modelo de Gradient Bossting\n",
    "GB.fit(x_treino, y_treino)\n",
    "\n",
    "# Cria o modelo de Random Forest\n",
    "RF = RandomForestRegressor()\n",
    "\n",
    "# Treina o modelo de Rando Forest\n",
    "RF.fit(x_treino, y_treino)"
   ]
  },
  {
   "cell_type": "markdown",
   "id": "f2726527",
   "metadata": {},
   "source": [
    "6 - Avaliação Estatística dos Resultados."
   ]
  },
  {
   "cell_type": "code",
   "execution_count": null,
   "id": "6f58fa0f",
   "metadata": {},
   "outputs": [],
   "source": [
    "# Calcula as Métricas estatísticas.\n",
    "RL_mbe = mean_absolute_error(y_teste, RL.predict(x_teste))\n",
    "\n",
    "RL_rmbe = mean_squared_error(y_teste, RL.predict(x_teste))\n",
    "\n",
    "RL_r2 = r2_score(y_teste, RL.predict(x_teste))\n",
    "\n",
    "# Exibe os Resultados.\n",
    "print('Resultados do modelo de Regressão Linear:')\n",
    "# Erro Médio (MBE).\n",
    "print(f'MBE: {RL_mbe:.2f}')\n",
    "# Raiz do erro Quadrático medio (RMSE).\n",
    "print(f'RMSE: {RL_rmbe:.2f}')\n",
    "# Coeficiente de Determinação (R2).\n",
    "print(f'R²: {RL_r2:.2f}')\n",
    "\n",
    "# Calcula as Métricas estatísticas.\n",
    "GB_mbe = mean_absolute_error(y_teste, GB.predict(x_teste))\n",
    "\n",
    "GB_rmbe = mean_squared_error(y_teste, GB.predict(x_teste))\n",
    "\n",
    "GB_r2 = r2_score(y_teste, GB.predict(x_teste))\n",
    "\n",
    "# Exibe os Resultados.\n",
    "print('Resultados do modelo de Gradient Boosting:')\n",
    "# Erro Médio (MBE).\n",
    "print(f'MBE: {GB_mbe:.2f}')\n",
    "# Raiz do erro Quadrático medio (RMSE).\n",
    "print(f'RMSE: {GB_rmbe:.2f}')\n",
    "# Coeficiente de Determinação (R2).\n",
    "print(f'R²: {GB_r2:.2f}')\n",
    "\n",
    "\n",
    "# Calcula as Métricas estatísticas.\n",
    "RF_mbe = mean_absolute_error(y_teste, RF.predict(x_teste))\n",
    "\n",
    "RF_rmbe = mean_squared_error(y_teste, RF.predict(x_teste))\n",
    "\n",
    "RF_r2 = r2_score(y_teste, RF.predict(x_teste))\n",
    "\n",
    "# Exibe os Resultados.\n",
    "print('Resultados do modelo de Random Forest:')\n",
    "# Erro Médio (MBE).\n",
    "print(f'MBE: {RF_mbe:.2f}')\n",
    "# Raiz do erro Quadrático medio (RMSE).\n",
    "print(f'RMSE: {RF_rmbe:.2f}')\n",
    "# Coeficiente de Determinação (R2).\n",
    "print(f'R²: {RF_r2:.2f}')\n",
    "\n"
   ]
  }
 ],
 "metadata": {
  "kernelspec": {
   "display_name": "venv",
   "language": "python",
   "name": "python3"
  },
  "language_info": {
   "codemirror_mode": {
    "name": "ipython",
    "version": 3
   },
   "file_extension": ".py",
   "mimetype": "text/x-python",
   "name": "python",
   "nbconvert_exporter": "python",
   "pygments_lexer": "ipython3",
   "version": "3.13.2"
  }
 },
 "nbformat": 4,
 "nbformat_minor": 5
}
